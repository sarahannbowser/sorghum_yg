{
 "cells": [
  {
   "cell_type": "markdown",
   "id": "232c30f4-3112-4f3c-a3e4-12118cf99a43",
   "metadata": {},
   "source": [
    "**Example of Calculating Yc, Ya and Typical GSR**\n",
    "\n",
    "Data utilized is from USDA NASS County-level Reports. Data was processed to pair growing season precipitation with yield observations."
   ]
  },
  {
   "cell_type": "code",
   "execution_count": 1,
   "id": "8a07cba6-d972-4217-8cd6-a499aaf60403",
   "metadata": {},
   "outputs": [],
   "source": [
    "import pandas as pd   \n",
    "from yg_functions import *"
   ]
  },
  {
   "cell_type": "code",
   "execution_count": 2,
   "id": "0fdfbdbb-83b9-466e-8b07-bf619de2dae1",
   "metadata": {},
   "outputs": [],
   "source": [
    "# Process the data\n",
    "\n",
    "nass_yields= pd.read_csv(\"C:/Users/Sarah/OneDrive - Kansas State University/Desktop/code/ET/crop_prec_files/model/seminar_22_fall/crop_data/nass_yield_data_complete.csv\")\n",
    "nass = nass_yields[[\"yield_kg_ha\" ,\"precip\", 'Year', 'Ag District Code']]\n",
    "\n",
    "# USDA NASS stopped reporting seperate yields for irrigated and dryland practice in the 2010s. Counties with irrigation >15% of sorghum sorghum cropping areas are removed. \n",
    "_2010s=pd.read_csv('C:/Users/Sarah/OneDrive - Kansas State University/Desktop/code/ET/crop_prec_files/model/seminar_22_fall/crop_data/nass_yield_2010_22_complete.csv')\n",
    "_2010s['data'] = 'USDA NASS'\n",
    "_2010s = _2010s.loc[(_2010s.County != 'HASKELL') & (_2010s.County != 'SHERMAN') & (_2010s.County != 'SHERIDAN') &\n",
    "                            (_2010s.County != 'GRANT') & (_2010s.County != 'STEVENS') & (_2010s.County != 'WALLACE') &\n",
    "                            (_2010s.County != 'SEWARD') & (_2010s.County != 'MEADE')& (_2010s.County != 'GRAY') \n",
    "                            & (_2010s.County != 'STANTON')]\n",
    "\n",
    "_2010s = _2010s[[\"yield_kg_ha\" ,\"precip\", 'data', 'Year', 'Ag District Code']]\n",
    "\n",
    "data = pd.concat([nass_yields, _2010s])\n",
    "data['PRECIP'] = data.precip\n",
    "\n",
    "data.yield_kg_ha= data.yield_kg_ha/1000\n",
    "data['YIELD'] = data.yield_kg_ha    \n",
    "\n",
    "# Select the Central Crop District \n",
    "C_ = data[data['Ag District Code'] == 50]"
   ]
  },
  {
   "cell_type": "code",
   "execution_count": 3,
   "id": "0531156d-37d9-46cd-9fbc-cbc2f07a7014",
   "metadata": {},
   "outputs": [
    {
     "name": "stdout",
     "output_type": "stream",
     "text": [
      "\n",
      "current_yield  5.119420799999999 \n",
      "yield_attainable 6.235915676844002 \n",
      "YGa 1.1164948768440022 \n",
      "median prec  355.0 \n",
      "obs number  308 \n",
      "\n",
      "\n",
      "\n"
     ]
    }
   ],
   "source": [
    "Cmedian_precip, yield_attainable, yga, current_yield, yield_attainable_max_index = distric_YA(C_, 99)"
   ]
  }
 ],
 "metadata": {
  "kernelspec": {
   "display_name": "Python 3 (ipykernel)",
   "language": "python",
   "name": "python3"
  },
  "language_info": {
   "codemirror_mode": {
    "name": "ipython",
    "version": 3
   },
   "file_extension": ".py",
   "mimetype": "text/x-python",
   "name": "python",
   "nbconvert_exporter": "python",
   "pygments_lexer": "ipython3",
   "version": "3.7.9"
  }
 },
 "nbformat": 4,
 "nbformat_minor": 5
}
